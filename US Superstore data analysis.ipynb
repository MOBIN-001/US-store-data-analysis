{
 "cells": [
  {
   "cell_type": "markdown",
   "id": "8120f8dd",
   "metadata": {},
   "source": [
    "#### Lets look at the data of  a superstore in US and get some insights from it."
   ]
  },
  {
   "cell_type": "code",
   "execution_count": 1,
   "id": "6db57d0a",
   "metadata": {},
   "outputs": [],
   "source": [
    "#Import some important liberaries for manupulating and visualizing data\n",
    "# import csv file from local pc. \n",
    "import pandas as pd\n",
    "import numpy as np \n",
    "import matplotlib.pyplot as plt\n",
    "import seaborn as sns\n",
    "%matplotlib inline\n",
    "import warnings \n",
    "warnings.filterwarnings('ignore') \n",
    "from sklearn.preprocessing import LabelEncoder"
   ]
  },
  {
   "cell_type": "code",
   "execution_count": 2,
   "id": "331cce9f",
   "metadata": {},
   "outputs": [
    {
     "data": {
      "text/html": [
       "<div>\n",
       "<style scoped>\n",
       "    .dataframe tbody tr th:only-of-type {\n",
       "        vertical-align: middle;\n",
       "    }\n",
       "\n",
       "    .dataframe tbody tr th {\n",
       "        vertical-align: top;\n",
       "    }\n",
       "\n",
       "    .dataframe thead th {\n",
       "        text-align: right;\n",
       "    }\n",
       "</style>\n",
       "<table border=\"1\" class=\"dataframe\">\n",
       "  <thead>\n",
       "    <tr style=\"text-align: right;\">\n",
       "      <th></th>\n",
       "      <th>Row ID</th>\n",
       "      <th>Order ID</th>\n",
       "      <th>Order Date</th>\n",
       "      <th>Ship Date</th>\n",
       "      <th>Ship Mode</th>\n",
       "      <th>Customer ID</th>\n",
       "      <th>Customer Name</th>\n",
       "      <th>Segment</th>\n",
       "      <th>Country</th>\n",
       "      <th>City</th>\n",
       "      <th>...</th>\n",
       "      <th>Postal Code</th>\n",
       "      <th>Region</th>\n",
       "      <th>Product ID</th>\n",
       "      <th>Category</th>\n",
       "      <th>Sub-Category</th>\n",
       "      <th>Product Name</th>\n",
       "      <th>Sales</th>\n",
       "      <th>Quantity</th>\n",
       "      <th>Discount</th>\n",
       "      <th>Profit</th>\n",
       "    </tr>\n",
       "  </thead>\n",
       "  <tbody>\n",
       "    <tr>\n",
       "      <th>0</th>\n",
       "      <td>1</td>\n",
       "      <td>CA-2016-152156</td>\n",
       "      <td>11/8/2016</td>\n",
       "      <td>11/11/2016</td>\n",
       "      <td>Second Class</td>\n",
       "      <td>CG-12520</td>\n",
       "      <td>Claire Gute</td>\n",
       "      <td>Consumer</td>\n",
       "      <td>United States</td>\n",
       "      <td>Henderson</td>\n",
       "      <td>...</td>\n",
       "      <td>42420</td>\n",
       "      <td>South</td>\n",
       "      <td>FUR-BO-10001798</td>\n",
       "      <td>Furniture</td>\n",
       "      <td>Bookcases</td>\n",
       "      <td>Bush Somerset Collection Bookcase</td>\n",
       "      <td>261.9600</td>\n",
       "      <td>2</td>\n",
       "      <td>0.00</td>\n",
       "      <td>41.9136</td>\n",
       "    </tr>\n",
       "    <tr>\n",
       "      <th>1</th>\n",
       "      <td>2</td>\n",
       "      <td>CA-2016-152156</td>\n",
       "      <td>11/8/2016</td>\n",
       "      <td>11/11/2016</td>\n",
       "      <td>Second Class</td>\n",
       "      <td>CG-12520</td>\n",
       "      <td>Claire Gute</td>\n",
       "      <td>Consumer</td>\n",
       "      <td>United States</td>\n",
       "      <td>Henderson</td>\n",
       "      <td>...</td>\n",
       "      <td>42420</td>\n",
       "      <td>South</td>\n",
       "      <td>FUR-CH-10000454</td>\n",
       "      <td>Furniture</td>\n",
       "      <td>Chairs</td>\n",
       "      <td>Hon Deluxe Fabric Upholstered Stacking Chairs,...</td>\n",
       "      <td>731.9400</td>\n",
       "      <td>3</td>\n",
       "      <td>0.00</td>\n",
       "      <td>219.5820</td>\n",
       "    </tr>\n",
       "    <tr>\n",
       "      <th>2</th>\n",
       "      <td>3</td>\n",
       "      <td>CA-2016-138688</td>\n",
       "      <td>6/12/2016</td>\n",
       "      <td>6/16/2016</td>\n",
       "      <td>Second Class</td>\n",
       "      <td>DV-13045</td>\n",
       "      <td>Darrin Van Huff</td>\n",
       "      <td>Corporate</td>\n",
       "      <td>United States</td>\n",
       "      <td>Los Angeles</td>\n",
       "      <td>...</td>\n",
       "      <td>90036</td>\n",
       "      <td>West</td>\n",
       "      <td>OFF-LA-10000240</td>\n",
       "      <td>Office Supplies</td>\n",
       "      <td>Labels</td>\n",
       "      <td>Self-Adhesive Address Labels for Typewriters b...</td>\n",
       "      <td>14.6200</td>\n",
       "      <td>2</td>\n",
       "      <td>0.00</td>\n",
       "      <td>6.8714</td>\n",
       "    </tr>\n",
       "    <tr>\n",
       "      <th>3</th>\n",
       "      <td>4</td>\n",
       "      <td>US-2015-108966</td>\n",
       "      <td>10/11/2015</td>\n",
       "      <td>10/18/2015</td>\n",
       "      <td>Standard Class</td>\n",
       "      <td>SO-20335</td>\n",
       "      <td>Sean O'Donnell</td>\n",
       "      <td>Consumer</td>\n",
       "      <td>United States</td>\n",
       "      <td>Fort Lauderdale</td>\n",
       "      <td>...</td>\n",
       "      <td>33311</td>\n",
       "      <td>South</td>\n",
       "      <td>FUR-TA-10000577</td>\n",
       "      <td>Furniture</td>\n",
       "      <td>Tables</td>\n",
       "      <td>Bretford CR4500 Series Slim Rectangular Table</td>\n",
       "      <td>957.5775</td>\n",
       "      <td>5</td>\n",
       "      <td>0.45</td>\n",
       "      <td>-383.0310</td>\n",
       "    </tr>\n",
       "    <tr>\n",
       "      <th>4</th>\n",
       "      <td>5</td>\n",
       "      <td>US-2015-108966</td>\n",
       "      <td>10/11/2015</td>\n",
       "      <td>10/18/2015</td>\n",
       "      <td>Standard Class</td>\n",
       "      <td>SO-20335</td>\n",
       "      <td>Sean O'Donnell</td>\n",
       "      <td>Consumer</td>\n",
       "      <td>United States</td>\n",
       "      <td>Fort Lauderdale</td>\n",
       "      <td>...</td>\n",
       "      <td>33311</td>\n",
       "      <td>South</td>\n",
       "      <td>OFF-ST-10000760</td>\n",
       "      <td>Office Supplies</td>\n",
       "      <td>Storage</td>\n",
       "      <td>Eldon Fold 'N Roll Cart System</td>\n",
       "      <td>22.3680</td>\n",
       "      <td>2</td>\n",
       "      <td>0.20</td>\n",
       "      <td>2.5164</td>\n",
       "    </tr>\n",
       "  </tbody>\n",
       "</table>\n",
       "<p>5 rows × 21 columns</p>\n",
       "</div>"
      ],
      "text/plain": [
       "   Row ID        Order ID  Order Date   Ship Date       Ship Mode Customer ID  \\\n",
       "0       1  CA-2016-152156   11/8/2016  11/11/2016    Second Class    CG-12520   \n",
       "1       2  CA-2016-152156   11/8/2016  11/11/2016    Second Class    CG-12520   \n",
       "2       3  CA-2016-138688   6/12/2016   6/16/2016    Second Class    DV-13045   \n",
       "3       4  US-2015-108966  10/11/2015  10/18/2015  Standard Class    SO-20335   \n",
       "4       5  US-2015-108966  10/11/2015  10/18/2015  Standard Class    SO-20335   \n",
       "\n",
       "     Customer Name    Segment        Country             City  ...  \\\n",
       "0      Claire Gute   Consumer  United States        Henderson  ...   \n",
       "1      Claire Gute   Consumer  United States        Henderson  ...   \n",
       "2  Darrin Van Huff  Corporate  United States      Los Angeles  ...   \n",
       "3   Sean O'Donnell   Consumer  United States  Fort Lauderdale  ...   \n",
       "4   Sean O'Donnell   Consumer  United States  Fort Lauderdale  ...   \n",
       "\n",
       "  Postal Code  Region       Product ID         Category Sub-Category  \\\n",
       "0       42420   South  FUR-BO-10001798        Furniture    Bookcases   \n",
       "1       42420   South  FUR-CH-10000454        Furniture       Chairs   \n",
       "2       90036    West  OFF-LA-10000240  Office Supplies       Labels   \n",
       "3       33311   South  FUR-TA-10000577        Furniture       Tables   \n",
       "4       33311   South  OFF-ST-10000760  Office Supplies      Storage   \n",
       "\n",
       "                                        Product Name     Sales  Quantity  \\\n",
       "0                  Bush Somerset Collection Bookcase  261.9600         2   \n",
       "1  Hon Deluxe Fabric Upholstered Stacking Chairs,...  731.9400         3   \n",
       "2  Self-Adhesive Address Labels for Typewriters b...   14.6200         2   \n",
       "3      Bretford CR4500 Series Slim Rectangular Table  957.5775         5   \n",
       "4                     Eldon Fold 'N Roll Cart System   22.3680         2   \n",
       "\n",
       "   Discount    Profit  \n",
       "0      0.00   41.9136  \n",
       "1      0.00  219.5820  \n",
       "2      0.00    6.8714  \n",
       "3      0.45 -383.0310  \n",
       "4      0.20    2.5164  \n",
       "\n",
       "[5 rows x 21 columns]"
      ]
     },
     "execution_count": 2,
     "metadata": {},
     "output_type": "execute_result"
    }
   ],
   "source": [
    "# load data\n",
    "df= pd.read_csv(r\"F:\\superstore_data_analysis\\data.csv\", encoding='latin1')\n",
    "df.head()"
   ]
  },
  {
   "cell_type": "markdown",
   "id": "75016d58",
   "metadata": {},
   "source": [
    "#### Exploratory Data Analysis"
   ]
  },
  {
   "cell_type": "code",
   "execution_count": 3,
   "id": "fa99c284",
   "metadata": {},
   "outputs": [
    {
     "data": {
      "text/plain": [
       "(9994, 21)"
      ]
     },
     "execution_count": 3,
     "metadata": {},
     "output_type": "execute_result"
    }
   ],
   "source": [
    "df.shape"
   ]
  },
  {
   "cell_type": "markdown",
   "id": "b23c2797",
   "metadata": {},
   "source": [
    "#### we have data with rows= 9994 and columns= 21"
   ]
  },
  {
   "cell_type": "code",
   "execution_count": 4,
   "id": "0ea893b3",
   "metadata": {},
   "outputs": [
    {
     "data": {
      "text/plain": [
       "Index(['Row ID', 'Order ID', 'Order Date', 'Ship Date', 'Ship Mode',\n",
       "       'Customer ID', 'Customer Name', 'Segment', 'Country', 'City', 'State',\n",
       "       'Postal Code', 'Region', 'Product ID', 'Category', 'Sub-Category',\n",
       "       'Product Name', 'Sales', 'Quantity', 'Discount', 'Profit'],\n",
       "      dtype='object')"
      ]
     },
     "execution_count": 4,
     "metadata": {},
     "output_type": "execute_result"
    }
   ],
   "source": [
    "df.columns"
   ]
  },
  {
   "cell_type": "code",
   "execution_count": 5,
   "id": "e9a250a6",
   "metadata": {},
   "outputs": [
    {
     "data": {
      "text/plain": [
       "Row ID             int64\n",
       "Order ID          object\n",
       "Order Date        object\n",
       "Ship Date         object\n",
       "Ship Mode         object\n",
       "Customer ID       object\n",
       "Customer Name     object\n",
       "Segment           object\n",
       "Country           object\n",
       "City              object\n",
       "State             object\n",
       "Postal Code        int64\n",
       "Region            object\n",
       "Product ID        object\n",
       "Category          object\n",
       "Sub-Category      object\n",
       "Product Name      object\n",
       "Sales            float64\n",
       "Quantity           int64\n",
       "Discount         float64\n",
       "Profit           float64\n",
       "dtype: object"
      ]
     },
     "execution_count": 5,
     "metadata": {},
     "output_type": "execute_result"
    }
   ],
   "source": [
    "# check data type of columns/attributes \n",
    "df.dtypes"
   ]
  },
  {
   "cell_type": "code",
   "execution_count": 6,
   "id": "4f731189",
   "metadata": {},
   "outputs": [
    {
     "name": "stdout",
     "output_type": "stream",
     "text": [
      "<class 'pandas.core.frame.DataFrame'>\n",
      "RangeIndex: 9994 entries, 0 to 9993\n",
      "Data columns (total 21 columns):\n",
      " #   Column         Non-Null Count  Dtype  \n",
      "---  ------         --------------  -----  \n",
      " 0   Row ID         9994 non-null   int64  \n",
      " 1   Order ID       9994 non-null   object \n",
      " 2   Order Date     9994 non-null   object \n",
      " 3   Ship Date      9994 non-null   object \n",
      " 4   Ship Mode      9994 non-null   object \n",
      " 5   Customer ID    9994 non-null   object \n",
      " 6   Customer Name  9994 non-null   object \n",
      " 7   Segment        9994 non-null   object \n",
      " 8   Country        9994 non-null   object \n",
      " 9   City           9994 non-null   object \n",
      " 10  State          9994 non-null   object \n",
      " 11  Postal Code    9994 non-null   int64  \n",
      " 12  Region         9994 non-null   object \n",
      " 13  Product ID     9994 non-null   object \n",
      " 14  Category       9994 non-null   object \n",
      " 15  Sub-Category   9994 non-null   object \n",
      " 16  Product Name   9994 non-null   object \n",
      " 17  Sales          9994 non-null   float64\n",
      " 18  Quantity       9994 non-null   int64  \n",
      " 19  Discount       9994 non-null   float64\n",
      " 20  Profit         9994 non-null   float64\n",
      "dtypes: float64(3), int64(3), object(15)\n",
      "memory usage: 1.6+ MB\n"
     ]
    }
   ],
   "source": [
    "df.info()"
   ]
  },
  {
   "cell_type": "markdown",
   "id": "3543ce7d",
   "metadata": {},
   "source": [
    "#### Lets check if there is any missing values in the data"
   ]
  },
  {
   "cell_type": "code",
   "execution_count": 7,
   "id": "0ab94a09",
   "metadata": {},
   "outputs": [
    {
     "data": {
      "text/plain": [
       "Row ID           0\n",
       "Order ID         0\n",
       "Order Date       0\n",
       "Ship Date        0\n",
       "Ship Mode        0\n",
       "Customer ID      0\n",
       "Customer Name    0\n",
       "Segment          0\n",
       "Country          0\n",
       "City             0\n",
       "State            0\n",
       "Postal Code      0\n",
       "Region           0\n",
       "Product ID       0\n",
       "Category         0\n",
       "Sub-Category     0\n",
       "Product Name     0\n",
       "Sales            0\n",
       "Quantity         0\n",
       "Discount         0\n",
       "Profit           0\n",
       "dtype: int64"
      ]
     },
     "execution_count": 7,
     "metadata": {},
     "output_type": "execute_result"
    }
   ],
   "source": [
    "df.isnull().sum()"
   ]
  },
  {
   "cell_type": "markdown",
   "id": "3623eda9",
   "metadata": {},
   "source": [
    "#### there is no missing values hence we can proceed to exploratory analysis part directly"
   ]
  },
  {
   "cell_type": "code",
   "execution_count": 8,
   "id": "3a9ca5ae",
   "metadata": {},
   "outputs": [
    {
     "data": {
      "text/html": [
       "<div>\n",
       "<style scoped>\n",
       "    .dataframe tbody tr th:only-of-type {\n",
       "        vertical-align: middle;\n",
       "    }\n",
       "\n",
       "    .dataframe tbody tr th {\n",
       "        vertical-align: top;\n",
       "    }\n",
       "\n",
       "    .dataframe thead th {\n",
       "        text-align: right;\n",
       "    }\n",
       "</style>\n",
       "<table border=\"1\" class=\"dataframe\">\n",
       "  <thead>\n",
       "    <tr style=\"text-align: right;\">\n",
       "      <th></th>\n",
       "      <th>Order ID</th>\n",
       "      <th>Order Date</th>\n",
       "      <th>Ship Date</th>\n",
       "      <th>Ship Mode</th>\n",
       "      <th>Customer ID</th>\n",
       "      <th>Customer Name</th>\n",
       "      <th>Segment</th>\n",
       "      <th>Country</th>\n",
       "      <th>City</th>\n",
       "      <th>State</th>\n",
       "      <th>Postal Code</th>\n",
       "      <th>Region</th>\n",
       "      <th>Product ID</th>\n",
       "      <th>Category</th>\n",
       "      <th>Sub-Category</th>\n",
       "      <th>Product Name</th>\n",
       "      <th>Sales</th>\n",
       "      <th>Quantity</th>\n",
       "      <th>Discount</th>\n",
       "      <th>Profit</th>\n",
       "    </tr>\n",
       "  </thead>\n",
       "  <tbody>\n",
       "    <tr>\n",
       "      <th>0</th>\n",
       "      <td>CA-2016-152156</td>\n",
       "      <td>11/8/2016</td>\n",
       "      <td>11/11/2016</td>\n",
       "      <td>Second Class</td>\n",
       "      <td>CG-12520</td>\n",
       "      <td>Claire Gute</td>\n",
       "      <td>Consumer</td>\n",
       "      <td>United States</td>\n",
       "      <td>Henderson</td>\n",
       "      <td>Kentucky</td>\n",
       "      <td>42420</td>\n",
       "      <td>South</td>\n",
       "      <td>FUR-BO-10001798</td>\n",
       "      <td>Furniture</td>\n",
       "      <td>Bookcases</td>\n",
       "      <td>Bush Somerset Collection Bookcase</td>\n",
       "      <td>261.9600</td>\n",
       "      <td>2</td>\n",
       "      <td>0.00</td>\n",
       "      <td>41.9136</td>\n",
       "    </tr>\n",
       "    <tr>\n",
       "      <th>1</th>\n",
       "      <td>CA-2016-152156</td>\n",
       "      <td>11/8/2016</td>\n",
       "      <td>11/11/2016</td>\n",
       "      <td>Second Class</td>\n",
       "      <td>CG-12520</td>\n",
       "      <td>Claire Gute</td>\n",
       "      <td>Consumer</td>\n",
       "      <td>United States</td>\n",
       "      <td>Henderson</td>\n",
       "      <td>Kentucky</td>\n",
       "      <td>42420</td>\n",
       "      <td>South</td>\n",
       "      <td>FUR-CH-10000454</td>\n",
       "      <td>Furniture</td>\n",
       "      <td>Chairs</td>\n",
       "      <td>Hon Deluxe Fabric Upholstered Stacking Chairs,...</td>\n",
       "      <td>731.9400</td>\n",
       "      <td>3</td>\n",
       "      <td>0.00</td>\n",
       "      <td>219.5820</td>\n",
       "    </tr>\n",
       "    <tr>\n",
       "      <th>2</th>\n",
       "      <td>CA-2016-138688</td>\n",
       "      <td>6/12/2016</td>\n",
       "      <td>6/16/2016</td>\n",
       "      <td>Second Class</td>\n",
       "      <td>DV-13045</td>\n",
       "      <td>Darrin Van Huff</td>\n",
       "      <td>Corporate</td>\n",
       "      <td>United States</td>\n",
       "      <td>Los Angeles</td>\n",
       "      <td>California</td>\n",
       "      <td>90036</td>\n",
       "      <td>West</td>\n",
       "      <td>OFF-LA-10000240</td>\n",
       "      <td>Office Supplies</td>\n",
       "      <td>Labels</td>\n",
       "      <td>Self-Adhesive Address Labels for Typewriters b...</td>\n",
       "      <td>14.6200</td>\n",
       "      <td>2</td>\n",
       "      <td>0.00</td>\n",
       "      <td>6.8714</td>\n",
       "    </tr>\n",
       "    <tr>\n",
       "      <th>3</th>\n",
       "      <td>US-2015-108966</td>\n",
       "      <td>10/11/2015</td>\n",
       "      <td>10/18/2015</td>\n",
       "      <td>Standard Class</td>\n",
       "      <td>SO-20335</td>\n",
       "      <td>Sean O'Donnell</td>\n",
       "      <td>Consumer</td>\n",
       "      <td>United States</td>\n",
       "      <td>Fort Lauderdale</td>\n",
       "      <td>Florida</td>\n",
       "      <td>33311</td>\n",
       "      <td>South</td>\n",
       "      <td>FUR-TA-10000577</td>\n",
       "      <td>Furniture</td>\n",
       "      <td>Tables</td>\n",
       "      <td>Bretford CR4500 Series Slim Rectangular Table</td>\n",
       "      <td>957.5775</td>\n",
       "      <td>5</td>\n",
       "      <td>0.45</td>\n",
       "      <td>-383.0310</td>\n",
       "    </tr>\n",
       "    <tr>\n",
       "      <th>4</th>\n",
       "      <td>US-2015-108966</td>\n",
       "      <td>10/11/2015</td>\n",
       "      <td>10/18/2015</td>\n",
       "      <td>Standard Class</td>\n",
       "      <td>SO-20335</td>\n",
       "      <td>Sean O'Donnell</td>\n",
       "      <td>Consumer</td>\n",
       "      <td>United States</td>\n",
       "      <td>Fort Lauderdale</td>\n",
       "      <td>Florida</td>\n",
       "      <td>33311</td>\n",
       "      <td>South</td>\n",
       "      <td>OFF-ST-10000760</td>\n",
       "      <td>Office Supplies</td>\n",
       "      <td>Storage</td>\n",
       "      <td>Eldon Fold 'N Roll Cart System</td>\n",
       "      <td>22.3680</td>\n",
       "      <td>2</td>\n",
       "      <td>0.20</td>\n",
       "      <td>2.5164</td>\n",
       "    </tr>\n",
       "  </tbody>\n",
       "</table>\n",
       "</div>"
      ],
      "text/plain": [
       "         Order ID  Order Date   Ship Date       Ship Mode Customer ID  \\\n",
       "0  CA-2016-152156   11/8/2016  11/11/2016    Second Class    CG-12520   \n",
       "1  CA-2016-152156   11/8/2016  11/11/2016    Second Class    CG-12520   \n",
       "2  CA-2016-138688   6/12/2016   6/16/2016    Second Class    DV-13045   \n",
       "3  US-2015-108966  10/11/2015  10/18/2015  Standard Class    SO-20335   \n",
       "4  US-2015-108966  10/11/2015  10/18/2015  Standard Class    SO-20335   \n",
       "\n",
       "     Customer Name    Segment        Country             City       State  \\\n",
       "0      Claire Gute   Consumer  United States        Henderson    Kentucky   \n",
       "1      Claire Gute   Consumer  United States        Henderson    Kentucky   \n",
       "2  Darrin Van Huff  Corporate  United States      Los Angeles  California   \n",
       "3   Sean O'Donnell   Consumer  United States  Fort Lauderdale     Florida   \n",
       "4   Sean O'Donnell   Consumer  United States  Fort Lauderdale     Florida   \n",
       "\n",
       "   Postal Code Region       Product ID         Category Sub-Category  \\\n",
       "0        42420  South  FUR-BO-10001798        Furniture    Bookcases   \n",
       "1        42420  South  FUR-CH-10000454        Furniture       Chairs   \n",
       "2        90036   West  OFF-LA-10000240  Office Supplies       Labels   \n",
       "3        33311  South  FUR-TA-10000577        Furniture       Tables   \n",
       "4        33311  South  OFF-ST-10000760  Office Supplies      Storage   \n",
       "\n",
       "                                        Product Name     Sales  Quantity  \\\n",
       "0                  Bush Somerset Collection Bookcase  261.9600         2   \n",
       "1  Hon Deluxe Fabric Upholstered Stacking Chairs,...  731.9400         3   \n",
       "2  Self-Adhesive Address Labels for Typewriters b...   14.6200         2   \n",
       "3      Bretford CR4500 Series Slim Rectangular Table  957.5775         5   \n",
       "4                     Eldon Fold 'N Roll Cart System   22.3680         2   \n",
       "\n",
       "   Discount    Profit  \n",
       "0      0.00   41.9136  \n",
       "1      0.00  219.5820  \n",
       "2      0.00    6.8714  \n",
       "3      0.45 -383.0310  \n",
       "4      0.20    2.5164  "
      ]
     },
     "execution_count": 8,
     "metadata": {},
     "output_type": "execute_result"
    }
   ],
   "source": [
    "# Row ID is unwanted column need to drop and reassign to df.\n",
    "df= df.drop('Row ID', axis=1)\n",
    "df.head()"
   ]
  },
  {
   "cell_type": "code",
   "execution_count": 9,
   "id": "b37ad161",
   "metadata": {},
   "outputs": [
    {
     "data": {
      "text/plain": [
       "1"
      ]
     },
     "execution_count": 9,
     "metadata": {},
     "output_type": "execute_result"
    }
   ],
   "source": [
    "df.duplicated().sum()"
   ]
  },
  {
   "cell_type": "code",
   "execution_count": 10,
   "id": "4aa8d469",
   "metadata": {},
   "outputs": [],
   "source": [
    "df.drop_duplicates(inplace=True)"
   ]
  },
  {
   "cell_type": "code",
   "execution_count": 11,
   "id": "298d7353",
   "metadata": {},
   "outputs": [
    {
     "data": {
      "text/plain": [
       "United States    9993\n",
       "Name: Country, dtype: int64"
      ]
     },
     "execution_count": 11,
     "metadata": {},
     "output_type": "execute_result"
    }
   ],
   "source": [
    "df['Country'].value_counts()"
   ]
  },
  {
   "cell_type": "code",
   "execution_count": 12,
   "id": "f87d4b80",
   "metadata": {},
   "outputs": [
    {
     "data": {
      "text/html": [
       "<div>\n",
       "<style scoped>\n",
       "    .dataframe tbody tr th:only-of-type {\n",
       "        vertical-align: middle;\n",
       "    }\n",
       "\n",
       "    .dataframe tbody tr th {\n",
       "        vertical-align: top;\n",
       "    }\n",
       "\n",
       "    .dataframe thead th {\n",
       "        text-align: right;\n",
       "    }\n",
       "</style>\n",
       "<table border=\"1\" class=\"dataframe\">\n",
       "  <thead>\n",
       "    <tr style=\"text-align: right;\">\n",
       "      <th></th>\n",
       "      <th>Order ID</th>\n",
       "      <th>Order Date</th>\n",
       "      <th>Ship Date</th>\n",
       "      <th>Ship Mode</th>\n",
       "      <th>Customer ID</th>\n",
       "      <th>Customer Name</th>\n",
       "      <th>Segment</th>\n",
       "      <th>City</th>\n",
       "      <th>State</th>\n",
       "      <th>Postal Code</th>\n",
       "      <th>Region</th>\n",
       "      <th>Product ID</th>\n",
       "      <th>Category</th>\n",
       "      <th>Sub-Category</th>\n",
       "      <th>Product Name</th>\n",
       "      <th>Sales</th>\n",
       "      <th>Quantity</th>\n",
       "      <th>Discount</th>\n",
       "      <th>Profit</th>\n",
       "    </tr>\n",
       "  </thead>\n",
       "  <tbody>\n",
       "    <tr>\n",
       "      <th>0</th>\n",
       "      <td>CA-2016-152156</td>\n",
       "      <td>11/8/2016</td>\n",
       "      <td>11/11/2016</td>\n",
       "      <td>Second Class</td>\n",
       "      <td>CG-12520</td>\n",
       "      <td>Claire Gute</td>\n",
       "      <td>Consumer</td>\n",
       "      <td>Henderson</td>\n",
       "      <td>Kentucky</td>\n",
       "      <td>42420</td>\n",
       "      <td>South</td>\n",
       "      <td>FUR-BO-10001798</td>\n",
       "      <td>Furniture</td>\n",
       "      <td>Bookcases</td>\n",
       "      <td>Bush Somerset Collection Bookcase</td>\n",
       "      <td>261.9600</td>\n",
       "      <td>2</td>\n",
       "      <td>0.00</td>\n",
       "      <td>41.9136</td>\n",
       "    </tr>\n",
       "    <tr>\n",
       "      <th>1</th>\n",
       "      <td>CA-2016-152156</td>\n",
       "      <td>11/8/2016</td>\n",
       "      <td>11/11/2016</td>\n",
       "      <td>Second Class</td>\n",
       "      <td>CG-12520</td>\n",
       "      <td>Claire Gute</td>\n",
       "      <td>Consumer</td>\n",
       "      <td>Henderson</td>\n",
       "      <td>Kentucky</td>\n",
       "      <td>42420</td>\n",
       "      <td>South</td>\n",
       "      <td>FUR-CH-10000454</td>\n",
       "      <td>Furniture</td>\n",
       "      <td>Chairs</td>\n",
       "      <td>Hon Deluxe Fabric Upholstered Stacking Chairs,...</td>\n",
       "      <td>731.9400</td>\n",
       "      <td>3</td>\n",
       "      <td>0.00</td>\n",
       "      <td>219.5820</td>\n",
       "    </tr>\n",
       "    <tr>\n",
       "      <th>2</th>\n",
       "      <td>CA-2016-138688</td>\n",
       "      <td>6/12/2016</td>\n",
       "      <td>6/16/2016</td>\n",
       "      <td>Second Class</td>\n",
       "      <td>DV-13045</td>\n",
       "      <td>Darrin Van Huff</td>\n",
       "      <td>Corporate</td>\n",
       "      <td>Los Angeles</td>\n",
       "      <td>California</td>\n",
       "      <td>90036</td>\n",
       "      <td>West</td>\n",
       "      <td>OFF-LA-10000240</td>\n",
       "      <td>Office Supplies</td>\n",
       "      <td>Labels</td>\n",
       "      <td>Self-Adhesive Address Labels for Typewriters b...</td>\n",
       "      <td>14.6200</td>\n",
       "      <td>2</td>\n",
       "      <td>0.00</td>\n",
       "      <td>6.8714</td>\n",
       "    </tr>\n",
       "    <tr>\n",
       "      <th>3</th>\n",
       "      <td>US-2015-108966</td>\n",
       "      <td>10/11/2015</td>\n",
       "      <td>10/18/2015</td>\n",
       "      <td>Standard Class</td>\n",
       "      <td>SO-20335</td>\n",
       "      <td>Sean O'Donnell</td>\n",
       "      <td>Consumer</td>\n",
       "      <td>Fort Lauderdale</td>\n",
       "      <td>Florida</td>\n",
       "      <td>33311</td>\n",
       "      <td>South</td>\n",
       "      <td>FUR-TA-10000577</td>\n",
       "      <td>Furniture</td>\n",
       "      <td>Tables</td>\n",
       "      <td>Bretford CR4500 Series Slim Rectangular Table</td>\n",
       "      <td>957.5775</td>\n",
       "      <td>5</td>\n",
       "      <td>0.45</td>\n",
       "      <td>-383.0310</td>\n",
       "    </tr>\n",
       "    <tr>\n",
       "      <th>4</th>\n",
       "      <td>US-2015-108966</td>\n",
       "      <td>10/11/2015</td>\n",
       "      <td>10/18/2015</td>\n",
       "      <td>Standard Class</td>\n",
       "      <td>SO-20335</td>\n",
       "      <td>Sean O'Donnell</td>\n",
       "      <td>Consumer</td>\n",
       "      <td>Fort Lauderdale</td>\n",
       "      <td>Florida</td>\n",
       "      <td>33311</td>\n",
       "      <td>South</td>\n",
       "      <td>OFF-ST-10000760</td>\n",
       "      <td>Office Supplies</td>\n",
       "      <td>Storage</td>\n",
       "      <td>Eldon Fold 'N Roll Cart System</td>\n",
       "      <td>22.3680</td>\n",
       "      <td>2</td>\n",
       "      <td>0.20</td>\n",
       "      <td>2.5164</td>\n",
       "    </tr>\n",
       "  </tbody>\n",
       "</table>\n",
       "</div>"
      ],
      "text/plain": [
       "         Order ID  Order Date   Ship Date       Ship Mode Customer ID  \\\n",
       "0  CA-2016-152156   11/8/2016  11/11/2016    Second Class    CG-12520   \n",
       "1  CA-2016-152156   11/8/2016  11/11/2016    Second Class    CG-12520   \n",
       "2  CA-2016-138688   6/12/2016   6/16/2016    Second Class    DV-13045   \n",
       "3  US-2015-108966  10/11/2015  10/18/2015  Standard Class    SO-20335   \n",
       "4  US-2015-108966  10/11/2015  10/18/2015  Standard Class    SO-20335   \n",
       "\n",
       "     Customer Name    Segment             City       State  Postal Code  \\\n",
       "0      Claire Gute   Consumer        Henderson    Kentucky        42420   \n",
       "1      Claire Gute   Consumer        Henderson    Kentucky        42420   \n",
       "2  Darrin Van Huff  Corporate      Los Angeles  California        90036   \n",
       "3   Sean O'Donnell   Consumer  Fort Lauderdale     Florida        33311   \n",
       "4   Sean O'Donnell   Consumer  Fort Lauderdale     Florida        33311   \n",
       "\n",
       "  Region       Product ID         Category Sub-Category  \\\n",
       "0  South  FUR-BO-10001798        Furniture    Bookcases   \n",
       "1  South  FUR-CH-10000454        Furniture       Chairs   \n",
       "2   West  OFF-LA-10000240  Office Supplies       Labels   \n",
       "3  South  FUR-TA-10000577        Furniture       Tables   \n",
       "4  South  OFF-ST-10000760  Office Supplies      Storage   \n",
       "\n",
       "                                        Product Name     Sales  Quantity  \\\n",
       "0                  Bush Somerset Collection Bookcase  261.9600         2   \n",
       "1  Hon Deluxe Fabric Upholstered Stacking Chairs,...  731.9400         3   \n",
       "2  Self-Adhesive Address Labels for Typewriters b...   14.6200         2   \n",
       "3      Bretford CR4500 Series Slim Rectangular Table  957.5775         5   \n",
       "4                     Eldon Fold 'N Roll Cart System   22.3680         2   \n",
       "\n",
       "   Discount    Profit  \n",
       "0      0.00   41.9136  \n",
       "1      0.00  219.5820  \n",
       "2      0.00    6.8714  \n",
       "3      0.45 -383.0310  \n",
       "4      0.20    2.5164  "
      ]
     },
     "execution_count": 12,
     "metadata": {},
     "output_type": "execute_result"
    }
   ],
   "source": [
    "# this data is for US county only hence we can drop country columns too.\n",
    "\n",
    "df= df.drop('Country',axis=1)\n",
    "df.head()"
   ]
  },
  {
   "cell_type": "code",
   "execution_count": 13,
   "id": "3e76e0bb",
   "metadata": {},
   "outputs": [],
   "source": [
    "# we can analysis the data further in 3 different ways.\n",
    "# 1.Product Level analysis\n",
    "# 2.Customer level analysis\n",
    "# 3.order level analysis\n"
   ]
  },
  {
   "cell_type": "code",
   "execution_count": 14,
   "id": "4a9ac36f",
   "metadata": {},
   "outputs": [
    {
     "data": {
      "text/plain": [
       "array(['Furniture', 'Office Supplies', 'Technology'], dtype=object)"
      ]
     },
     "execution_count": 14,
     "metadata": {},
     "output_type": "execute_result"
    }
   ],
   "source": [
    "# lets look at product categories available to shop for customers\n",
    "\n",
    "df['Category'].unique()"
   ]
  },
  {
   "cell_type": "code",
   "execution_count": 15,
   "id": "d59be213",
   "metadata": {},
   "outputs": [
    {
     "data": {
      "text/plain": [
       "Office Supplies    6026\n",
       "Furniture          2120\n",
       "Technology         1847\n",
       "Name: Category, dtype: int64"
      ]
     },
     "execution_count": 15,
     "metadata": {},
     "output_type": "execute_result"
    }
   ],
   "source": [
    "df['Category'].value_counts() #no. of products of each category"
   ]
  },
  {
   "cell_type": "code",
   "execution_count": 16,
   "id": "d86dc40a",
   "metadata": {},
   "outputs": [
    {
     "data": {
      "text/plain": [
       "17"
      ]
     },
     "execution_count": 16,
     "metadata": {},
     "output_type": "execute_result"
    }
   ],
   "source": [
    "# no. of sub-categories products are divided.\n",
    "df['Sub-Category'].nunique()"
   ]
  },
  {
   "cell_type": "code",
   "execution_count": 17,
   "id": "23d2f2ca",
   "metadata": {},
   "outputs": [
    {
     "data": {
      "text/plain": [
       "Binders        1523\n",
       "Paper          1370\n",
       "Furnishings     957\n",
       "Phones          889\n",
       "Storage         846\n",
       "Art             796\n",
       "Accessories     775\n",
       "Chairs          616\n",
       "Appliances      466\n",
       "Labels          364\n",
       "Tables          319\n",
       "Envelopes       254\n",
       "Bookcases       228\n",
       "Fasteners       217\n",
       "Supplies        190\n",
       "Machines        115\n",
       "Copiers          68\n",
       "Name: Sub-Category, dtype: int64"
      ]
     },
     "execution_count": 17,
     "metadata": {},
     "output_type": "execute_result"
    }
   ],
   "source": [
    "# no. of products in each sub-category \n",
    "df['Sub-Category'].value_counts()"
   ]
  },
  {
   "cell_type": "code",
   "execution_count": 18,
   "id": "7a1333f4",
   "metadata": {},
   "outputs": [
    {
     "data": {
      "image/png": "[encoded data removed]",
      "text/plain": [
       "<Figure size 864x576 with 1 Axes>"
      ]
     },
     "metadata": {
      "needs_background": "light"
     },
     "output_type": "display_data"
    }
   ],
   "source": [
    "# lets see how sub- categories are distributed wrt to category\n",
    "plt.figure(figsize=(12,8))\n",
    "plt.bar('Sub-Category', 'Category', data=df, color='g')\n",
    "plt.xticks(rotation='vertical', size= 8)\n",
    "plt.ylabel ('Category')\n",
    "plt.xlabel('Sub-Category')\n",
    "plt.show()"
   ]
  },
  {
   "cell_type": "code",
   "execution_count": 19,
   "id": "cb2097d4",
   "metadata": {},
   "outputs": [
    {
     "data": {
      "image/png": "[encoded data removed]",
      "text/plain": [
       "<Figure size 936x720 with 1 Axes>"
      ]
     },
     "metadata": {},
     "output_type": "display_data"
    }
   ],
   "source": [
    "# lets check pi plot how much percentage of sub-category products are available\n",
    "plt.figure(figsize=(13,10))\n",
    "df['Sub-Category'].value_counts().plot.pie(autopct=\"%1.1f%%\")\n",
    "plt.show()"
   ]
  },
  {
   "cell_type": "markdown",
   "id": "066f14ab",
   "metadata": {},
   "source": [
    "#### as per pi graph store has wide variety of office supplies especially in Paper and Binders department.\n"
   ]
  },
  {
   "cell_type": "code",
   "execution_count": 20,
   "id": "0d30be1c",
   "metadata": {},
   "outputs": [
    {
     "data": {
      "text/plain": [
       "<Figure size 1080x720 with 0 Axes>"
      ]
     },
     "metadata": {},
     "output_type": "display_data"
    },
    {
     "data": {
      "image/png": "[encoded data removed]",
      "text/plain": [
       "<Figure size 432x288 with 1 Axes>"
      ]
     },
     "metadata": {
      "needs_background": "light"
     },
     "output_type": "display_data"
    }
   ],
   "source": [
    "# now check total profit and sales per sub-category \n",
    "plt.figure(figsize=(15,10))\n",
    "df.groupby('Sub-Category')['Sales','Profit'].agg(['sum']).plot.bar()\n",
    "plt.title('Total Profit and sales per sub-category')\n",
    "plt.show()"
   ]
  },
  {
   "cell_type": "markdown",
   "id": "f965ff50",
   "metadata": {},
   "source": [
    "#### chair and phones shows high in sales and copiers indicates extereme in profit\n",
    "#### people have less interest to buy tables and bookcases"
   ]
  },
  {
   "cell_type": "code",
   "execution_count": 21,
   "id": "6393f065",
   "metadata": {},
   "outputs": [
    {
     "data": {
      "text/plain": [
       "1850"
      ]
     },
     "execution_count": 21,
     "metadata": {},
     "output_type": "execute_result"
    }
   ],
   "source": [
    "# number of products available in store \n",
    "df['Product Name'].nunique()"
   ]
  },
  {
   "cell_type": "code",
   "execution_count": 22,
   "id": "ce99877a",
   "metadata": {},
   "outputs": [
    {
     "data": {
      "text/plain": [
       "Staple envelope                                                                        48\n",
       "Staples                                                                                46\n",
       "Easy-staple paper                                                                      46\n",
       "Avery Non-Stick Binders                                                                20\n",
       "Staples in misc. colors                                                                19\n",
       "                                                                                       ..\n",
       "Boston 1900 Electric Pencil Sharpener                                                   1\n",
       "RCA ViSYS 25423RE1 Corded phone                                                         1\n",
       "Canon Color ImageCLASS MF8580Cdw Wireless Laser All-In-One Printer, Copier, Scanner     1\n",
       "Newell 342                                                                              1\n",
       "Eldon Jumbo ProFile Portable File Boxes Graphite/Black                                  1\n",
       "Name: Product Name, Length: 1850, dtype: int64"
      ]
     },
     "execution_count": 22,
     "metadata": {},
     "output_type": "execute_result"
    }
   ],
   "source": [
    "df['Product Name'].value_counts()"
   ]
  },
  {
   "cell_type": "code",
   "execution_count": 23,
   "id": "14be8c31",
   "metadata": {},
   "outputs": [
    {
     "data": {
      "text/plain": [
       "<AxesSubplot:ylabel='Product Name'>"
      ]
     },
     "execution_count": 23,
     "metadata": {},
     "output_type": "execute_result"
    },
    {
     "data": {
      "image/png": "[encoded data removed]",
      "text/plain": [
       "<Figure size 936x720 with 1 Axes>"
      ]
     },
     "metadata": {},
     "output_type": "display_data"
    }
   ],
   "source": [
    "# Distribution of top 10 Products\n",
    "plt.figure(figsize=(13,10))\n",
    "df['Product Name'].value_counts().head(10).plot.pie(autopct=\"%1.1f%%\")"
   ]
  },
  {
   "cell_type": "code",
   "execution_count": 24,
   "id": "2c4d2845",
   "metadata": {},
   "outputs": [
    {
     "data": {
      "image/png": "[encoded data removed]",
      "text/plain": [
       "<Figure size 720x576 with 1 Axes>"
      ]
     },
     "metadata": {
      "needs_background": "light"
     },
     "output_type": "display_data"
    }
   ],
   "source": [
    "# count of sub-category region wise \n",
    "plt.figure(figsize=(10,8))\n",
    "sns.countplot(x='Sub-Category', hue='Region', data=df)\n",
    "plt.xticks(rotation='vertical')\n",
    "plt.show()"
   ]
  },
  {
   "cell_type": "markdown",
   "id": "d35f2c84",
   "metadata": {},
   "source": [
    "###### From above graph represents that resiging in western part of US tend to order more from Store"
   ]
  },
  {
   "cell_type": "code",
   "execution_count": 25,
   "id": "e2106830",
   "metadata": {},
   "outputs": [
    {
     "data": {
      "text/plain": [
       "0     220.0464\n",
       "1     512.3580\n",
       "2       7.7486\n",
       "3    1340.6085\n",
       "4      19.8516\n",
       "Name: Cost, dtype: float64"
      ]
     },
     "execution_count": 25,
     "metadata": {},
     "output_type": "execute_result"
    }
   ],
   "source": [
    "# Lets understand the data better, lets create some new columns like cost, profit%\n",
    "\n",
    "df['Cost']= df['Sales']-df['Profit']\n",
    "df['Cost'].head()"
   ]
  },
  {
   "cell_type": "code",
   "execution_count": 26,
   "id": "3be4cd36",
   "metadata": {},
   "outputs": [],
   "source": [
    "df['Profit%']= (df['Profit']/df['Cost'])*100"
   ]
  },
  {
   "cell_type": "code",
   "execution_count": 27,
   "id": "8c99bc95",
   "metadata": {},
   "outputs": [
    {
     "data": {
      "text/html": [
       "<div>\n",
       "<style scoped>\n",
       "    .dataframe tbody tr th:only-of-type {\n",
       "        vertical-align: middle;\n",
       "    }\n",
       "\n",
       "    .dataframe tbody tr th {\n",
       "        vertical-align: top;\n",
       "    }\n",
       "\n",
       "    .dataframe thead th {\n",
       "        text-align: right;\n",
       "    }\n",
       "</style>\n",
       "<table border=\"1\" class=\"dataframe\">\n",
       "  <thead>\n",
       "    <tr style=\"text-align: right;\">\n",
       "      <th></th>\n",
       "      <th>Product Name</th>\n",
       "      <th>Profit%</th>\n",
       "    </tr>\n",
       "  </thead>\n",
       "  <tbody>\n",
       "    <tr>\n",
       "      <th>0</th>\n",
       "      <td>Bush Somerset Collection Bookcase</td>\n",
       "      <td>19.047619</td>\n",
       "    </tr>\n",
       "    <tr>\n",
       "      <th>1</th>\n",
       "      <td>Hon Deluxe Fabric Upholstered Stacking Chairs,...</td>\n",
       "      <td>42.857143</td>\n",
       "    </tr>\n",
       "    <tr>\n",
       "      <th>2</th>\n",
       "      <td>Self-Adhesive Address Labels for Typewriters b...</td>\n",
       "      <td>88.679245</td>\n",
       "    </tr>\n",
       "    <tr>\n",
       "      <th>3</th>\n",
       "      <td>Bretford CR4500 Series Slim Rectangular Table</td>\n",
       "      <td>-28.571429</td>\n",
       "    </tr>\n",
       "    <tr>\n",
       "      <th>4</th>\n",
       "      <td>Eldon Fold 'N Roll Cart System</td>\n",
       "      <td>12.676056</td>\n",
       "    </tr>\n",
       "  </tbody>\n",
       "</table>\n",
       "</div>"
      ],
      "text/plain": [
       "                                        Product Name    Profit%\n",
       "0                  Bush Somerset Collection Bookcase  19.047619\n",
       "1  Hon Deluxe Fabric Upholstered Stacking Chairs,...  42.857143\n",
       "2  Self-Adhesive Address Labels for Typewriters b...  88.679245\n",
       "3      Bretford CR4500 Series Slim Rectangular Table -28.571429\n",
       "4                     Eldon Fold 'N Roll Cart System  12.676056"
      ]
     },
     "execution_count": 27,
     "metadata": {},
     "output_type": "execute_result"
    }
   ],
   "source": [
    "df.iloc[[0,1,2,3,4],[14,20]]   #Profit Percentage of first 5 product names."
   ]
  },
  {
   "cell_type": "code",
   "execution_count": 28,
   "id": "62b34ba3",
   "metadata": {},
   "outputs": [
    {
     "data": {
      "text/html": [
       "<div>\n",
       "<style scoped>\n",
       "    .dataframe tbody tr th:only-of-type {\n",
       "        vertical-align: middle;\n",
       "    }\n",
       "\n",
       "    .dataframe tbody tr th {\n",
       "        vertical-align: top;\n",
       "    }\n",
       "\n",
       "    .dataframe thead th {\n",
       "        text-align: right;\n",
       "    }\n",
       "</style>\n",
       "<table border=\"1\" class=\"dataframe\">\n",
       "  <thead>\n",
       "    <tr style=\"text-align: right;\">\n",
       "      <th></th>\n",
       "      <th>Order ID</th>\n",
       "      <th>Order Date</th>\n",
       "      <th>Ship Date</th>\n",
       "      <th>Ship Mode</th>\n",
       "      <th>Customer ID</th>\n",
       "      <th>Customer Name</th>\n",
       "      <th>Segment</th>\n",
       "      <th>City</th>\n",
       "      <th>State</th>\n",
       "      <th>Postal Code</th>\n",
       "      <th>...</th>\n",
       "      <th>Product ID</th>\n",
       "      <th>Category</th>\n",
       "      <th>Sub-Category</th>\n",
       "      <th>Product Name</th>\n",
       "      <th>Sales</th>\n",
       "      <th>Quantity</th>\n",
       "      <th>Discount</th>\n",
       "      <th>Profit</th>\n",
       "      <th>Cost</th>\n",
       "      <th>Profit%</th>\n",
       "    </tr>\n",
       "  </thead>\n",
       "  <tbody>\n",
       "    <tr>\n",
       "      <th>1696</th>\n",
       "      <td>CA-2015-156335</td>\n",
       "      <td>9/25/2015</td>\n",
       "      <td>9/28/2015</td>\n",
       "      <td>Second Class</td>\n",
       "      <td>PO-19195</td>\n",
       "      <td>Phillina Ober</td>\n",
       "      <td>Home Office</td>\n",
       "      <td>Bayonne</td>\n",
       "      <td>New Jersey</td>\n",
       "      <td>7002</td>\n",
       "      <td>...</td>\n",
       "      <td>TEC-PH-10002726</td>\n",
       "      <td>Technology</td>\n",
       "      <td>Phones</td>\n",
       "      <td>netTALK DUO VoIP Telephone Service</td>\n",
       "      <td>104.980</td>\n",
       "      <td>2</td>\n",
       "      <td>0.0</td>\n",
       "      <td>52.4900</td>\n",
       "      <td>52.4900</td>\n",
       "      <td>100.000000</td>\n",
       "    </tr>\n",
       "    <tr>\n",
       "      <th>4611</th>\n",
       "      <td>CA-2016-109407</td>\n",
       "      <td>1/24/2016</td>\n",
       "      <td>1/26/2016</td>\n",
       "      <td>Second Class</td>\n",
       "      <td>HG-14965</td>\n",
       "      <td>Henry Goldwyn</td>\n",
       "      <td>Corporate</td>\n",
       "      <td>Gulfport</td>\n",
       "      <td>Mississippi</td>\n",
       "      <td>39503</td>\n",
       "      <td>...</td>\n",
       "      <td>OFF-BI-10000285</td>\n",
       "      <td>Office Supplies</td>\n",
       "      <td>Binders</td>\n",
       "      <td>XtraLife ClearVue Slant-D Ring Binders by Card...</td>\n",
       "      <td>31.360</td>\n",
       "      <td>4</td>\n",
       "      <td>0.0</td>\n",
       "      <td>15.6800</td>\n",
       "      <td>15.6800</td>\n",
       "      <td>100.000000</td>\n",
       "    </tr>\n",
       "    <tr>\n",
       "      <th>3984</th>\n",
       "      <td>CA-2016-135265</td>\n",
       "      <td>7/7/2016</td>\n",
       "      <td>7/9/2016</td>\n",
       "      <td>Second Class</td>\n",
       "      <td>CC-12370</td>\n",
       "      <td>Christopher Conant</td>\n",
       "      <td>Consumer</td>\n",
       "      <td>Los Angeles</td>\n",
       "      <td>California</td>\n",
       "      <td>90045</td>\n",
       "      <td>...</td>\n",
       "      <td>OFF-PA-10002923</td>\n",
       "      <td>Office Supplies</td>\n",
       "      <td>Paper</td>\n",
       "      <td>Xerox 1942</td>\n",
       "      <td>48.940</td>\n",
       "      <td>1</td>\n",
       "      <td>0.0</td>\n",
       "      <td>24.4700</td>\n",
       "      <td>24.4700</td>\n",
       "      <td>100.000000</td>\n",
       "    </tr>\n",
       "    <tr>\n",
       "      <th>4651</th>\n",
       "      <td>CA-2017-150987</td>\n",
       "      <td>4/8/2017</td>\n",
       "      <td>4/12/2017</td>\n",
       "      <td>Standard Class</td>\n",
       "      <td>AH-10120</td>\n",
       "      <td>Adrian Hane</td>\n",
       "      <td>Home Office</td>\n",
       "      <td>San Francisco</td>\n",
       "      <td>California</td>\n",
       "      <td>94110</td>\n",
       "      <td>...</td>\n",
       "      <td>OFF-PA-10002923</td>\n",
       "      <td>Office Supplies</td>\n",
       "      <td>Paper</td>\n",
       "      <td>Xerox 1942</td>\n",
       "      <td>195.760</td>\n",
       "      <td>4</td>\n",
       "      <td>0.0</td>\n",
       "      <td>97.8800</td>\n",
       "      <td>97.8800</td>\n",
       "      <td>100.000000</td>\n",
       "    </tr>\n",
       "    <tr>\n",
       "      <th>6600</th>\n",
       "      <td>CA-2014-154095</td>\n",
       "      <td>12/2/2014</td>\n",
       "      <td>12/7/2014</td>\n",
       "      <td>Standard Class</td>\n",
       "      <td>ON-18715</td>\n",
       "      <td>Odella Nelson</td>\n",
       "      <td>Corporate</td>\n",
       "      <td>Clinton</td>\n",
       "      <td>Maryland</td>\n",
       "      <td>20735</td>\n",
       "      <td>...</td>\n",
       "      <td>OFF-PA-10002923</td>\n",
       "      <td>Office Supplies</td>\n",
       "      <td>Paper</td>\n",
       "      <td>Xerox 1942</td>\n",
       "      <td>146.820</td>\n",
       "      <td>3</td>\n",
       "      <td>0.0</td>\n",
       "      <td>73.4100</td>\n",
       "      <td>73.4100</td>\n",
       "      <td>100.000000</td>\n",
       "    </tr>\n",
       "    <tr>\n",
       "      <th>...</th>\n",
       "      <td>...</td>\n",
       "      <td>...</td>\n",
       "      <td>...</td>\n",
       "      <td>...</td>\n",
       "      <td>...</td>\n",
       "      <td>...</td>\n",
       "      <td>...</td>\n",
       "      <td>...</td>\n",
       "      <td>...</td>\n",
       "      <td>...</td>\n",
       "      <td>...</td>\n",
       "      <td>...</td>\n",
       "      <td>...</td>\n",
       "      <td>...</td>\n",
       "      <td>...</td>\n",
       "      <td>...</td>\n",
       "      <td>...</td>\n",
       "      <td>...</td>\n",
       "      <td>...</td>\n",
       "      <td>...</td>\n",
       "      <td>...</td>\n",
       "    </tr>\n",
       "    <tr>\n",
       "      <th>8916</th>\n",
       "      <td>US-2016-144057</td>\n",
       "      <td>5/9/2016</td>\n",
       "      <td>5/13/2016</td>\n",
       "      <td>Standard Class</td>\n",
       "      <td>CV-12805</td>\n",
       "      <td>Cynthia Voltz</td>\n",
       "      <td>Corporate</td>\n",
       "      <td>Austin</td>\n",
       "      <td>Texas</td>\n",
       "      <td>78745</td>\n",
       "      <td>...</td>\n",
       "      <td>OFF-AP-10000390</td>\n",
       "      <td>Office Supplies</td>\n",
       "      <td>Appliances</td>\n",
       "      <td>Euro Pro Shark Stick Mini Vacuum</td>\n",
       "      <td>48.784</td>\n",
       "      <td>4</td>\n",
       "      <td>0.8</td>\n",
       "      <td>-131.7168</td>\n",
       "      <td>180.5008</td>\n",
       "      <td>-72.972973</td>\n",
       "    </tr>\n",
       "    <tr>\n",
       "      <th>8766</th>\n",
       "      <td>CA-2015-107083</td>\n",
       "      <td>11/21/2015</td>\n",
       "      <td>11/27/2015</td>\n",
       "      <td>Standard Class</td>\n",
       "      <td>BB-11545</td>\n",
       "      <td>Brenda Bowman</td>\n",
       "      <td>Corporate</td>\n",
       "      <td>Fort Worth</td>\n",
       "      <td>Texas</td>\n",
       "      <td>76106</td>\n",
       "      <td>...</td>\n",
       "      <td>OFF-AP-10004136</td>\n",
       "      <td>Office Supplies</td>\n",
       "      <td>Appliances</td>\n",
       "      <td>Kensington 6 Outlet SmartSocket Surge Protector</td>\n",
       "      <td>24.588</td>\n",
       "      <td>3</td>\n",
       "      <td>0.8</td>\n",
       "      <td>-67.6170</td>\n",
       "      <td>92.2050</td>\n",
       "      <td>-73.333333</td>\n",
       "    </tr>\n",
       "    <tr>\n",
       "      <th>9164</th>\n",
       "      <td>CA-2015-164007</td>\n",
       "      <td>6/8/2015</td>\n",
       "      <td>6/12/2015</td>\n",
       "      <td>Standard Class</td>\n",
       "      <td>MG-17695</td>\n",
       "      <td>Maureen Gnade</td>\n",
       "      <td>Consumer</td>\n",
       "      <td>Chicago</td>\n",
       "      <td>Illinois</td>\n",
       "      <td>60610</td>\n",
       "      <td>...</td>\n",
       "      <td>OFF-AP-10003849</td>\n",
       "      <td>Office Supplies</td>\n",
       "      <td>Appliances</td>\n",
       "      <td>Hoover Shoulder Vac Commercial Portable Vacuum</td>\n",
       "      <td>143.128</td>\n",
       "      <td>2</td>\n",
       "      <td>0.8</td>\n",
       "      <td>-393.6020</td>\n",
       "      <td>536.7300</td>\n",
       "      <td>-73.333333</td>\n",
       "    </tr>\n",
       "    <tr>\n",
       "      <th>676</th>\n",
       "      <td>US-2017-119438</td>\n",
       "      <td>3/18/2017</td>\n",
       "      <td>3/23/2017</td>\n",
       "      <td>Standard Class</td>\n",
       "      <td>CD-11980</td>\n",
       "      <td>Carol Darley</td>\n",
       "      <td>Consumer</td>\n",
       "      <td>Tyler</td>\n",
       "      <td>Texas</td>\n",
       "      <td>75701</td>\n",
       "      <td>...</td>\n",
       "      <td>OFF-AP-10000804</td>\n",
       "      <td>Office Supplies</td>\n",
       "      <td>Appliances</td>\n",
       "      <td>Hoover Portapower Portable Vacuum</td>\n",
       "      <td>2.688</td>\n",
       "      <td>3</td>\n",
       "      <td>0.8</td>\n",
       "      <td>-7.3920</td>\n",
       "      <td>10.0800</td>\n",
       "      <td>-73.333333</td>\n",
       "    </tr>\n",
       "    <tr>\n",
       "      <th>261</th>\n",
       "      <td>US-2017-155299</td>\n",
       "      <td>6/8/2017</td>\n",
       "      <td>6/12/2017</td>\n",
       "      <td>Standard Class</td>\n",
       "      <td>Dl-13600</td>\n",
       "      <td>Dorris liebe</td>\n",
       "      <td>Corporate</td>\n",
       "      <td>Pasadena</td>\n",
       "      <td>Texas</td>\n",
       "      <td>77506</td>\n",
       "      <td>...</td>\n",
       "      <td>OFF-AP-10002203</td>\n",
       "      <td>Office Supplies</td>\n",
       "      <td>Appliances</td>\n",
       "      <td>Eureka Disposable Bags for Sanitaire Vibra Gro...</td>\n",
       "      <td>1.624</td>\n",
       "      <td>2</td>\n",
       "      <td>0.8</td>\n",
       "      <td>-4.4660</td>\n",
       "      <td>6.0900</td>\n",
       "      <td>-73.333333</td>\n",
       "    </tr>\n",
       "  </tbody>\n",
       "</table>\n",
       "<p>2063 rows × 21 columns</p>\n",
       "</div>"
      ],
      "text/plain": [
       "            Order ID  Order Date   Ship Date       Ship Mode Customer ID  \\\n",
       "1696  CA-2015-156335   9/25/2015   9/28/2015    Second Class    PO-19195   \n",
       "4611  CA-2016-109407   1/24/2016   1/26/2016    Second Class    HG-14965   \n",
       "3984  CA-2016-135265    7/7/2016    7/9/2016    Second Class    CC-12370   \n",
       "4651  CA-2017-150987    4/8/2017   4/12/2017  Standard Class    AH-10120   \n",
       "6600  CA-2014-154095   12/2/2014   12/7/2014  Standard Class    ON-18715   \n",
       "...              ...         ...         ...             ...         ...   \n",
       "8916  US-2016-144057    5/9/2016   5/13/2016  Standard Class    CV-12805   \n",
       "8766  CA-2015-107083  11/21/2015  11/27/2015  Standard Class    BB-11545   \n",
       "9164  CA-2015-164007    6/8/2015   6/12/2015  Standard Class    MG-17695   \n",
       "676   US-2017-119438   3/18/2017   3/23/2017  Standard Class    CD-11980   \n",
       "261   US-2017-155299    6/8/2017   6/12/2017  Standard Class    Dl-13600   \n",
       "\n",
       "           Customer Name      Segment           City        State  \\\n",
       "1696       Phillina Ober  Home Office        Bayonne   New Jersey   \n",
       "4611       Henry Goldwyn    Corporate       Gulfport  Mississippi   \n",
       "3984  Christopher Conant     Consumer    Los Angeles   California   \n",
       "4651         Adrian Hane  Home Office  San Francisco   California   \n",
       "6600       Odella Nelson    Corporate        Clinton     Maryland   \n",
       "...                  ...          ...            ...          ...   \n",
       "8916       Cynthia Voltz    Corporate         Austin        Texas   \n",
       "8766       Brenda Bowman    Corporate     Fort Worth        Texas   \n",
       "9164       Maureen Gnade     Consumer        Chicago     Illinois   \n",
       "676         Carol Darley     Consumer          Tyler        Texas   \n",
       "261         Dorris liebe    Corporate       Pasadena        Texas   \n",
       "\n",
       "      Postal Code  ...       Product ID         Category Sub-Category  \\\n",
       "1696         7002  ...  TEC-PH-10002726       Technology       Phones   \n",
       "4611        39503  ...  OFF-BI-10000285  Office Supplies      Binders   \n",
       "3984        90045  ...  OFF-PA-10002923  Office Supplies        Paper   \n",
       "4651        94110  ...  OFF-PA-10002923  Office Supplies        Paper   \n",
       "6600        20735  ...  OFF-PA-10002923  Office Supplies        Paper   \n",
       "...           ...  ...              ...              ...          ...   \n",
       "8916        78745  ...  OFF-AP-10000390  Office Supplies   Appliances   \n",
       "8766        76106  ...  OFF-AP-10004136  Office Supplies   Appliances   \n",
       "9164        60610  ...  OFF-AP-10003849  Office Supplies   Appliances   \n",
       "676         75701  ...  OFF-AP-10000804  Office Supplies   Appliances   \n",
       "261         77506  ...  OFF-AP-10002203  Office Supplies   Appliances   \n",
       "\n",
       "                                           Product Name    Sales  Quantity  \\\n",
       "1696                 netTALK DUO VoIP Telephone Service  104.980         2   \n",
       "4611  XtraLife ClearVue Slant-D Ring Binders by Card...   31.360         4   \n",
       "3984                                         Xerox 1942   48.940         1   \n",
       "4651                                         Xerox 1942  195.760         4   \n",
       "6600                                         Xerox 1942  146.820         3   \n",
       "...                                                 ...      ...       ...   \n",
       "8916                   Euro Pro Shark Stick Mini Vacuum   48.784         4   \n",
       "8766    Kensington 6 Outlet SmartSocket Surge Protector   24.588         3   \n",
       "9164     Hoover Shoulder Vac Commercial Portable Vacuum  143.128         2   \n",
       "676                   Hoover Portapower Portable Vacuum    2.688         3   \n",
       "261   Eureka Disposable Bags for Sanitaire Vibra Gro...    1.624         2   \n",
       "\n",
       "      Discount    Profit      Cost     Profit%  \n",
       "1696       0.0   52.4900   52.4900  100.000000  \n",
       "4611       0.0   15.6800   15.6800  100.000000  \n",
       "3984       0.0   24.4700   24.4700  100.000000  \n",
       "4651       0.0   97.8800   97.8800  100.000000  \n",
       "6600       0.0   73.4100   73.4100  100.000000  \n",
       "...        ...       ...       ...         ...  \n",
       "8916       0.8 -131.7168  180.5008  -72.972973  \n",
       "8766       0.8  -67.6170   92.2050  -73.333333  \n",
       "9164       0.8 -393.6020  536.7300  -73.333333  \n",
       "676        0.8   -7.3920   10.0800  -73.333333  \n",
       "261        0.8   -4.4660    6.0900  -73.333333  \n",
       "\n",
       "[2063 rows x 21 columns]"
      ]
     },
     "execution_count": 28,
     "metadata": {},
     "output_type": "execute_result"
    }
   ],
   "source": [
    "# products with high profit percentage\n",
    "df.sort_values(['Profit%', 'Product Name'], ascending= False).groupby('Profit%').head(5)"
   ]
  },
  {
   "cell_type": "markdown",
   "id": "c13f9940",
   "metadata": {},
   "source": [
    "###### Retailers selling Phones, Binders, papers have got 100% profit in their business."
   ]
  },
  {
   "cell_type": "markdown",
   "id": "a860c518",
   "metadata": {},
   "source": [
    "# Lets look at the data wrt to CUSTOMER LEVEL."
   ]
  },
  {
   "cell_type": "code",
   "execution_count": 29,
   "id": "6b90a671",
   "metadata": {},
   "outputs": [
    {
     "data": {
      "text/plain": [
       "793"
      ]
     },
     "execution_count": 29,
     "metadata": {},
     "output_type": "execute_result"
    }
   ],
   "source": [
    "df['Customer ID'].nunique()"
   ]
  },
  {
   "cell_type": "code",
   "execution_count": 30,
   "id": "fdbc075e",
   "metadata": {},
   "outputs": [
    {
     "data": {
      "text/plain": [
       "WB-21850    37\n",
       "JL-15835    34\n",
       "MA-17560    34\n",
       "PP-18955    34\n",
       "CK-12205    32\n",
       "SV-20365    32\n",
       "JD-15895    32\n",
       "EH-13765    32\n",
       "ZC-21910    31\n",
       "EP-13915    31\n",
       "Name: Customer ID, dtype: int64"
      ]
     },
     "execution_count": 30,
     "metadata": {},
     "output_type": "execute_result"
    }
   ],
   "source": [
    "df_top10= df['Customer ID'].value_counts().head(10)\n",
    "df_top10"
   ]
  },
  {
   "cell_type": "code",
   "execution_count": 31,
   "id": "77bb7d5a",
   "metadata": {},
   "outputs": [
    {
     "data": {
      "image/png": "[encoded data removed]",
      "text/plain": [
       "<Figure size 720x576 with 1 Axes>"
      ]
     },
     "metadata": {
      "needs_background": "light"
     },
     "output_type": "display_data"
    }
   ],
   "source": [
    "fig=plt.figure(figsize=(10,8))\n",
    "ax= fig.add_subplot(111)\n",
    "s= sns.countplot('Segment', data= df)\n",
    "for s in ax.patches:\n",
    "    ax.annotate('{:.0f}'.format(s.get_height()),(s.get_x()+0.15, s.get_height()+1))\n",
    "plt.show()"
   ]
  },
  {
   "cell_type": "markdown",
   "id": "3734f479",
   "metadata": {},
   "source": [
    "###### the distribution is highest in consumer segment."
   ]
  },
  {
   "cell_type": "code",
   "execution_count": 32,
   "id": "15c1a7d3",
   "metadata": {},
   "outputs": [
    {
     "data": {
      "image/png": "[encoded data removed]",
      "text/plain": [
       "<Figure size 1080x576 with 1 Axes>"
      ]
     },
     "metadata": {
      "needs_background": "light"
     },
     "output_type": "display_data"
    }
   ],
   "source": [
    "# Top 20 Customers who benefitted the store\n",
    "sortedtop20 = df.sort_values(['Profit'], ascending= False).head(20)\n",
    "fig = plt.figure(figsize=(15,8))\n",
    "ax = fig.add_subplot(111)\n",
    "p = sns.barplot(x= 'Customer Name', y= 'Profit', hue = 'State', palette= 'Set1', data= sortedtop20, ax=ax)\n",
    "ax.set_title('Top 20 profitable customers')\n",
    "ax.set_xticklabels(p.get_xticklabels(), rotation= 80)\n",
    "plt.tight_layout()\n",
    "plt.show()"
   ]
  },
  {
   "cell_type": "markdown",
   "id": "717193cc",
   "metadata": {},
   "source": [
    "#### lets do some analysis with Order details of the data\n"
   ]
  },
  {
   "cell_type": "code",
   "execution_count": 33,
   "id": "b0497aaf",
   "metadata": {},
   "outputs": [
    {
     "data": {
      "text/plain": [
       "5009"
      ]
     },
     "execution_count": 33,
     "metadata": {},
     "output_type": "execute_result"
    }
   ],
   "source": [
    "df['Order ID'].nunique()"
   ]
  },
  {
   "cell_type": "code",
   "execution_count": 34,
   "id": "b63c73cb",
   "metadata": {},
   "outputs": [
    {
     "data": {
      "text/plain": [
       "WB-21850    37\n",
       "JL-15835    34\n",
       "MA-17560    34\n",
       "PP-18955    34\n",
       "CK-12205    32\n",
       "            ..\n",
       "LD-16855     1\n",
       "AO-10810     1\n",
       "CJ-11875     1\n",
       "RE-19405     1\n",
       "JR-15700     1\n",
       "Name: Customer ID, Length: 793, dtype: int64"
      ]
     },
     "execution_count": 34,
     "metadata": {},
     "output_type": "execute_result"
    }
   ],
   "source": [
    "df['Customer ID'].value_counts()"
   ]
  },
  {
   "cell_type": "code",
   "execution_count": 35,
   "id": "0ab5a68b",
   "metadata": {},
   "outputs": [
    {
     "data": {
      "text/plain": [
       "0       3\n",
       "1       3\n",
       "2       4\n",
       "3       7\n",
       "4       7\n",
       "       ..\n",
       "9989    2\n",
       "9990    5\n",
       "9991    5\n",
       "9992    5\n",
       "9993    5\n",
       "Name: Shipment Duration, Length: 9993, dtype: int64"
      ]
     },
     "execution_count": 35,
     "metadata": {},
     "output_type": "execute_result"
    }
   ],
   "source": [
    "# calculating the time taken for an order to ship and converting the no. of days in int format\n",
    "\n",
    "df['Shipment Duration'] = (pd.to_datetime(df['Ship Date'])-pd.to_datetime(df['Order Date'])).dt.days\n",
    "df['Shipment Duration']"
   ]
  },
  {
   "cell_type": "code",
   "execution_count": 36,
   "id": "fddf765b",
   "metadata": {},
   "outputs": [
    {
     "data": {
      "text/html": [
       "<div>\n",
       "<style scoped>\n",
       "    .dataframe tbody tr th:only-of-type {\n",
       "        vertical-align: middle;\n",
       "    }\n",
       "\n",
       "    .dataframe tbody tr th {\n",
       "        vertical-align: top;\n",
       "    }\n",
       "\n",
       "    .dataframe thead th {\n",
       "        text-align: right;\n",
       "    }\n",
       "</style>\n",
       "<table border=\"1\" class=\"dataframe\">\n",
       "  <thead>\n",
       "    <tr style=\"text-align: right;\">\n",
       "      <th></th>\n",
       "      <th>Order ID</th>\n",
       "      <th>Ship Mode</th>\n",
       "      <th>Shipment Duration</th>\n",
       "    </tr>\n",
       "  </thead>\n",
       "  <tbody>\n",
       "    <tr>\n",
       "      <th>0</th>\n",
       "      <td>CA-2016-152156</td>\n",
       "      <td>Second Class</td>\n",
       "      <td>3</td>\n",
       "    </tr>\n",
       "    <tr>\n",
       "      <th>1</th>\n",
       "      <td>CA-2016-152156</td>\n",
       "      <td>Second Class</td>\n",
       "      <td>3</td>\n",
       "    </tr>\n",
       "    <tr>\n",
       "      <th>2</th>\n",
       "      <td>CA-2016-138688</td>\n",
       "      <td>Second Class</td>\n",
       "      <td>4</td>\n",
       "    </tr>\n",
       "    <tr>\n",
       "      <th>3</th>\n",
       "      <td>US-2015-108966</td>\n",
       "      <td>Standard Class</td>\n",
       "      <td>7</td>\n",
       "    </tr>\n",
       "    <tr>\n",
       "      <th>4</th>\n",
       "      <td>US-2015-108966</td>\n",
       "      <td>Standard Class</td>\n",
       "      <td>7</td>\n",
       "    </tr>\n",
       "    <tr>\n",
       "      <th>...</th>\n",
       "      <td>...</td>\n",
       "      <td>...</td>\n",
       "      <td>...</td>\n",
       "    </tr>\n",
       "    <tr>\n",
       "      <th>9989</th>\n",
       "      <td>CA-2014-110422</td>\n",
       "      <td>Second Class</td>\n",
       "      <td>2</td>\n",
       "    </tr>\n",
       "    <tr>\n",
       "      <th>9990</th>\n",
       "      <td>CA-2017-121258</td>\n",
       "      <td>Standard Class</td>\n",
       "      <td>5</td>\n",
       "    </tr>\n",
       "    <tr>\n",
       "      <th>9991</th>\n",
       "      <td>CA-2017-121258</td>\n",
       "      <td>Standard Class</td>\n",
       "      <td>5</td>\n",
       "    </tr>\n",
       "    <tr>\n",
       "      <th>9992</th>\n",
       "      <td>CA-2017-121258</td>\n",
       "      <td>Standard Class</td>\n",
       "      <td>5</td>\n",
       "    </tr>\n",
       "    <tr>\n",
       "      <th>9993</th>\n",
       "      <td>CA-2017-119914</td>\n",
       "      <td>Second Class</td>\n",
       "      <td>5</td>\n",
       "    </tr>\n",
       "  </tbody>\n",
       "</table>\n",
       "<p>9993 rows × 3 columns</p>\n",
       "</div>"
      ],
      "text/plain": [
       "            Order ID       Ship Mode  Shipment Duration\n",
       "0     CA-2016-152156    Second Class                  3\n",
       "1     CA-2016-152156    Second Class                  3\n",
       "2     CA-2016-138688    Second Class                  4\n",
       "3     US-2015-108966  Standard Class                  7\n",
       "4     US-2015-108966  Standard Class                  7\n",
       "...              ...             ...                ...\n",
       "9989  CA-2014-110422    Second Class                  2\n",
       "9990  CA-2017-121258  Standard Class                  5\n",
       "9991  CA-2017-121258  Standard Class                  5\n",
       "9992  CA-2017-121258  Standard Class                  5\n",
       "9993  CA-2017-119914    Second Class                  5\n",
       "\n",
       "[9993 rows x 3 columns]"
      ]
     },
     "execution_count": 36,
     "metadata": {},
     "output_type": "execute_result"
    }
   ],
   "source": [
    "df.iloc[:,[0,3,21]]"
   ]
  },
  {
   "cell_type": "markdown",
   "id": "23fd4ce4",
   "metadata": {},
   "source": [
    "###### Lets find out some more details about each Customer like total products purchased, Products they purchase , First Purchase Date, Last Purchase Date, Location from where the customer placed an order"
   ]
  },
  {
   "cell_type": "code",
   "execution_count": 37,
   "id": "9107a150",
   "metadata": {},
   "outputs": [],
   "source": [
    "# creating function and appending customer and order info to it.\n",
    "def agg_customer(x):\n",
    "    d=[]\n",
    "    d.append(x['Order ID'].count())\n",
    "    d.append(x['Sales'].sum())\n",
    "    d.append(x['Profit%'].mean())\n",
    "    d.append(pd.to_datetime(x['Order Date']).min)\n",
    "    d.append(pd.to_datetime(x['Order Date']).max)\n",
    "    d.append(x['Product Name'].unique())\n",
    "    d.append(x['City'].unique())\n",
    "    return pd.Series(d, index=['Purchases', 'Total_Sales', 'Average Profit % gained', 'First_Purchase_Date', 'Last_Purchase_Date', 'Products Purchased', 'Location_Count'])"
   ]
  },
  {
   "cell_type": "code",
   "execution_count": 38,
   "id": "d5737f85",
   "metadata": {},
   "outputs": [
    {
     "data": {
      "text/html": [
       "<div>\n",
       "<style scoped>\n",
       "    .dataframe tbody tr th:only-of-type {\n",
       "        vertical-align: middle;\n",
       "    }\n",
       "\n",
       "    .dataframe tbody tr th {\n",
       "        vertical-align: top;\n",
       "    }\n",
       "\n",
       "    .dataframe thead th {\n",
       "        text-align: right;\n",
       "    }\n",
       "</style>\n",
       "<table border=\"1\" class=\"dataframe\">\n",
       "  <thead>\n",
       "    <tr style=\"text-align: right;\">\n",
       "      <th></th>\n",
       "      <th>Purchases</th>\n",
       "      <th>Total_Sales</th>\n",
       "      <th>Average Profit % gained</th>\n",
       "      <th>First_Purchase_Date</th>\n",
       "      <th>Last_Purchase_Date</th>\n",
       "      <th>Products Purchased</th>\n",
       "      <th>Location_Count</th>\n",
       "    </tr>\n",
       "    <tr>\n",
       "      <th>Customer ID</th>\n",
       "      <th></th>\n",
       "      <th></th>\n",
       "      <th></th>\n",
       "      <th></th>\n",
       "      <th></th>\n",
       "      <th></th>\n",
       "      <th></th>\n",
       "    </tr>\n",
       "  </thead>\n",
       "  <tbody>\n",
       "    <tr>\n",
       "      <th>AA-10315</th>\n",
       "      <td>11</td>\n",
       "      <td>5563.560</td>\n",
       "      <td>44.527461</td>\n",
       "      <td>&lt;bound method NDFrame._add_numeric_operations....</td>\n",
       "      <td>&lt;bound method NDFrame._add_numeric_operations....</td>\n",
       "      <td>[Belkin 325VA UPS Surge Protector, 6', Avery B...</td>\n",
       "      <td>[Minneapolis, San Francisco, Round Rock, New Y...</td>\n",
       "    </tr>\n",
       "    <tr>\n",
       "      <th>AA-10375</th>\n",
       "      <td>15</td>\n",
       "      <td>1056.390</td>\n",
       "      <td>52.349415</td>\n",
       "      <td>&lt;bound method NDFrame._add_numeric_operations....</td>\n",
       "      <td>&lt;bound method NDFrame._add_numeric_operations....</td>\n",
       "      <td>[Sterilite Officeware Hinged File Box, Colored...</td>\n",
       "      <td>[Mesa, Omaha, Los Angeles, Salem, Atlanta, Ran...</td>\n",
       "    </tr>\n",
       "    <tr>\n",
       "      <th>AA-10480</th>\n",
       "      <td>12</td>\n",
       "      <td>1790.512</td>\n",
       "      <td>55.580242</td>\n",
       "      <td>&lt;bound method NDFrame._add_numeric_operations....</td>\n",
       "      <td>&lt;bound method NDFrame._add_numeric_operations....</td>\n",
       "      <td>[Xerox 1967, DAX Wood Document Frame, Strathmo...</td>\n",
       "      <td>[Concord, Middletown, Springfield, Detroit]</td>\n",
       "    </tr>\n",
       "    <tr>\n",
       "      <th>AA-10645</th>\n",
       "      <td>18</td>\n",
       "      <td>5086.935</td>\n",
       "      <td>42.364755</td>\n",
       "      <td>&lt;bound method NDFrame._add_numeric_operations....</td>\n",
       "      <td>&lt;bound method NDFrame._add_numeric_operations....</td>\n",
       "      <td>[Padded Folding Chairs, Black, 4/Carton, Panas...</td>\n",
       "      <td>[Chester, San Francisco, Georgetown, San Diego...</td>\n",
       "    </tr>\n",
       "    <tr>\n",
       "      <th>AB-10015</th>\n",
       "      <td>6</td>\n",
       "      <td>886.156</td>\n",
       "      <td>15.186975</td>\n",
       "      <td>&lt;bound method NDFrame._add_numeric_operations....</td>\n",
       "      <td>&lt;bound method NDFrame._add_numeric_operations....</td>\n",
       "      <td>[Global Push Button Manager's Chair, Indigo, N...</td>\n",
       "      <td>[Seattle, Arlington, Oklahoma City]</td>\n",
       "    </tr>\n",
       "    <tr>\n",
       "      <th>...</th>\n",
       "      <td>...</td>\n",
       "      <td>...</td>\n",
       "      <td>...</td>\n",
       "      <td>...</td>\n",
       "      <td>...</td>\n",
       "      <td>...</td>\n",
       "      <td>...</td>\n",
       "    </tr>\n",
       "    <tr>\n",
       "      <th>XP-21865</th>\n",
       "      <td>28</td>\n",
       "      <td>2374.658</td>\n",
       "      <td>53.799227</td>\n",
       "      <td>&lt;bound method NDFrame._add_numeric_operations....</td>\n",
       "      <td>&lt;bound method NDFrame._add_numeric_operations....</td>\n",
       "      <td>[Imation USB 2.0 Swivel Flash Drive USB flash ...</td>\n",
       "      <td>[San Diego, Everett, Chicago, Los Angeles, Pas...</td>\n",
       "    </tr>\n",
       "    <tr>\n",
       "      <th>YC-21895</th>\n",
       "      <td>8</td>\n",
       "      <td>5454.350</td>\n",
       "      <td>42.235317</td>\n",
       "      <td>&lt;bound method NDFrame._add_numeric_operations....</td>\n",
       "      <td>&lt;bound method NDFrame._add_numeric_operations....</td>\n",
       "      <td>[Hewlett Packard 610 Color Digital Copier / Pr...</td>\n",
       "      <td>[San Francisco, Los Angeles, Newark, Dallas, F...</td>\n",
       "    </tr>\n",
       "    <tr>\n",
       "      <th>YS-21880</th>\n",
       "      <td>12</td>\n",
       "      <td>6720.444</td>\n",
       "      <td>37.278442</td>\n",
       "      <td>&lt;bound method NDFrame._add_numeric_operations....</td>\n",
       "      <td>&lt;bound method NDFrame._add_numeric_operations....</td>\n",
       "      <td>[4009 Highlighters by Sanford, Letter Size Car...</td>\n",
       "      <td>[Burlington, Oakland, Newark, Seattle, Columbu...</td>\n",
       "    </tr>\n",
       "    <tr>\n",
       "      <th>ZC-21910</th>\n",
       "      <td>31</td>\n",
       "      <td>8025.707</td>\n",
       "      <td>7.780852</td>\n",
       "      <td>&lt;bound method NDFrame._add_numeric_operations....</td>\n",
       "      <td>&lt;bound method NDFrame._add_numeric_operations....</td>\n",
       "      <td>[i.Sound Portable Power - 8000 mAh, Xerox 225,...</td>\n",
       "      <td>[Salem, Edmonds, Miami, Houston, Los Angeles, ...</td>\n",
       "    </tr>\n",
       "    <tr>\n",
       "      <th>ZD-21925</th>\n",
       "      <td>9</td>\n",
       "      <td>1493.944</td>\n",
       "      <td>38.716008</td>\n",
       "      <td>&lt;bound method NDFrame._add_numeric_operations....</td>\n",
       "      <td>&lt;bound method NDFrame._add_numeric_operations....</td>\n",
       "      <td>[Newell 341, Cisco SPA 501G IP Phone, Wilson J...</td>\n",
       "      <td>[San Francisco, Chattanooga, Jacksonville, Ric...</td>\n",
       "    </tr>\n",
       "  </tbody>\n",
       "</table>\n",
       "<p>793 rows × 7 columns</p>\n",
       "</div>"
      ],
      "text/plain": [
       "             Purchases  Total_Sales  Average Profit % gained  \\\n",
       "Customer ID                                                    \n",
       "AA-10315            11     5563.560                44.527461   \n",
       "AA-10375            15     1056.390                52.349415   \n",
       "AA-10480            12     1790.512                55.580242   \n",
       "AA-10645            18     5086.935                42.364755   \n",
       "AB-10015             6      886.156                15.186975   \n",
       "...                ...          ...                      ...   \n",
       "XP-21865            28     2374.658                53.799227   \n",
       "YC-21895             8     5454.350                42.235317   \n",
       "YS-21880            12     6720.444                37.278442   \n",
       "ZC-21910            31     8025.707                 7.780852   \n",
       "ZD-21925             9     1493.944                38.716008   \n",
       "\n",
       "                                           First_Purchase_Date  \\\n",
       "Customer ID                                                      \n",
       "AA-10315     <bound method NDFrame._add_numeric_operations....   \n",
       "AA-10375     <bound method NDFrame._add_numeric_operations....   \n",
       "AA-10480     <bound method NDFrame._add_numeric_operations....   \n",
       "AA-10645     <bound method NDFrame._add_numeric_operations....   \n",
       "AB-10015     <bound method NDFrame._add_numeric_operations....   \n",
       "...                                                        ...   \n",
       "XP-21865     <bound method NDFrame._add_numeric_operations....   \n",
       "YC-21895     <bound method NDFrame._add_numeric_operations....   \n",
       "YS-21880     <bound method NDFrame._add_numeric_operations....   \n",
       "ZC-21910     <bound method NDFrame._add_numeric_operations....   \n",
       "ZD-21925     <bound method NDFrame._add_numeric_operations....   \n",
       "\n",
       "                                            Last_Purchase_Date  \\\n",
       "Customer ID                                                      \n",
       "AA-10315     <bound method NDFrame._add_numeric_operations....   \n",
       "AA-10375     <bound method NDFrame._add_numeric_operations....   \n",
       "AA-10480     <bound method NDFrame._add_numeric_operations....   \n",
       "AA-10645     <bound method NDFrame._add_numeric_operations....   \n",
       "AB-10015     <bound method NDFrame._add_numeric_operations....   \n",
       "...                                                        ...   \n",
       "XP-21865     <bound method NDFrame._add_numeric_operations....   \n",
       "YC-21895     <bound method NDFrame._add_numeric_operations....   \n",
       "YS-21880     <bound method NDFrame._add_numeric_operations....   \n",
       "ZC-21910     <bound method NDFrame._add_numeric_operations....   \n",
       "ZD-21925     <bound method NDFrame._add_numeric_operations....   \n",
       "\n",
       "                                            Products Purchased  \\\n",
       "Customer ID                                                      \n",
       "AA-10315     [Belkin 325VA UPS Surge Protector, 6', Avery B...   \n",
       "AA-10375     [Sterilite Officeware Hinged File Box, Colored...   \n",
       "AA-10480     [Xerox 1967, DAX Wood Document Frame, Strathmo...   \n",
       "AA-10645     [Padded Folding Chairs, Black, 4/Carton, Panas...   \n",
       "AB-10015     [Global Push Button Manager's Chair, Indigo, N...   \n",
       "...                                                        ...   \n",
       "XP-21865     [Imation USB 2.0 Swivel Flash Drive USB flash ...   \n",
       "YC-21895     [Hewlett Packard 610 Color Digital Copier / Pr...   \n",
       "YS-21880     [4009 Highlighters by Sanford, Letter Size Car...   \n",
       "ZC-21910     [i.Sound Portable Power - 8000 mAh, Xerox 225,...   \n",
       "ZD-21925     [Newell 341, Cisco SPA 501G IP Phone, Wilson J...   \n",
       "\n",
       "                                                Location_Count  \n",
       "Customer ID                                                     \n",
       "AA-10315     [Minneapolis, San Francisco, Round Rock, New Y...  \n",
       "AA-10375     [Mesa, Omaha, Los Angeles, Salem, Atlanta, Ran...  \n",
       "AA-10480           [Concord, Middletown, Springfield, Detroit]  \n",
       "AA-10645     [Chester, San Francisco, Georgetown, San Diego...  \n",
       "AB-10015                   [Seattle, Arlington, Oklahoma City]  \n",
       "...                                                        ...  \n",
       "XP-21865     [San Diego, Everett, Chicago, Los Angeles, Pas...  \n",
       "YC-21895     [San Francisco, Los Angeles, Newark, Dallas, F...  \n",
       "YS-21880     [Burlington, Oakland, Newark, Seattle, Columbu...  \n",
       "ZC-21910     [Salem, Edmonds, Miami, Houston, Los Angeles, ...  \n",
       "ZD-21925     [San Francisco, Chattanooga, Jacksonville, Ric...  \n",
       "\n",
       "[793 rows x 7 columns]"
      ]
     },
     "execution_count": 38,
     "metadata": {},
     "output_type": "execute_result"
    }
   ],
   "source": [
    "# grouping based on customer ID and applying the function we created above\n",
    "df_agg = df.groupby('Customer ID').apply(agg_customer)\n",
    "df_agg"
   ]
  },
  {
   "cell_type": "code",
   "execution_count": 39,
   "id": "305d407f",
   "metadata": {},
   "outputs": [
    {
     "data": {
      "text/plain": [
       "0       2016\n",
       "1       2016\n",
       "2       2016\n",
       "3       2015\n",
       "4       2015\n",
       "        ... \n",
       "9989    2014\n",
       "9990    2017\n",
       "9991    2017\n",
       "9992    2017\n",
       "9993    2017\n",
       "Name: order year, Length: 9993, dtype: int64"
      ]
     },
     "execution_count": 39,
     "metadata": {},
     "output_type": "execute_result"
    }
   ],
   "source": [
    "#extracting the year of order\n",
    "df['Order Date']= pd.to_datetime(df['Order Date'])\n",
    "df['order year']= df['Order Date'].dt.year\n",
    "df['order year']"
   ]
  },
  {
   "cell_type": "code",
   "execution_count": 40,
   "id": "c917e3f9",
   "metadata": {},
   "outputs": [
    {
     "data": {
      "image/png": "[encoded data removed]",
      "text/plain": [
       "<Figure size 1080x576 with 1 Axes>"
      ]
     },
     "metadata": {
      "needs_background": "light"
     },
     "output_type": "display_data"
    }
   ],
   "source": [
    "# Calculating Profit gained in each category\n",
    "fig = plt.figure(figsize=(15,8))\n",
    "ax = fig.add_subplot(111)\n",
    "sns.barplot(x= 'order year', y= 'Profit%', hue = 'Sub-Category', palette= 'Paired', data= df)\n",
    "for o in ax.patches:\n",
    "    ax.annotate('{:.0f}'.format(o.get_height()),(o.get_x()+0.15, o.get_height()+1))\n",
    "\n",
    "plt.tight_layout()\n",
    "plt.show()"
   ]
  },
  {
   "cell_type": "code",
   "execution_count": 41,
   "id": "f39b739f",
   "metadata": {},
   "outputs": [
    {
     "data": {
      "text/plain": [
       "Text(0.5, 1.0, 'Year wise Total Sales and % of profit gained')"
      ]
     },
     "execution_count": 41,
     "metadata": {},
     "output_type": "execute_result"
    },
    {
     "data": {
      "image/png": "[encoded data removed]",
      "text/plain": [
       "<Figure size 432x288 with 1 Axes>"
      ]
     },
     "metadata": {
      "needs_background": "light"
     },
     "output_type": "display_data"
    }
   ],
   "source": [
    "#Sales per year\n",
    "df.groupby('order year')['Sales', 'Profit%'].agg(['sum']).plot.bar()\n",
    "plt.title('Year wise Total Sales and % of profit gained')"
   ]
  },
  {
   "cell_type": "markdown",
   "id": "cedb2c0e",
   "metadata": {},
   "source": [
    "###### Sales of the store has increased every year resulting in high profit margin by the end of 2017"
   ]
  },
  {
   "cell_type": "code",
   "execution_count": null,
   "id": "4e9cae9b",
   "metadata": {},
   "outputs": [],
   "source": []
  },
  {
   "cell_type": "code",
   "execution_count": null,
   "id": "b99c8eb6",
   "metadata": {},
   "outputs": [],
   "source": []
  }
 ],
 "metadata": {
  "kernelspec": {
   "display_name": "Python 3 (ipykernel)",
   "language": "python",
   "name": "python3"
  },
  "language_info": {
   "codemirror_mode": {
    "name": "ipython",
    "version": 3
   },
   "file_extension": ".py",
   "mimetype": "text/x-python",
   "name": "python",
   "nbconvert_exporter": "python",
   "pygments_lexer": "ipython3",
   "version": "3.9.12"
  }
 },
 "nbformat": 4,
 "nbformat_minor": 5
}
